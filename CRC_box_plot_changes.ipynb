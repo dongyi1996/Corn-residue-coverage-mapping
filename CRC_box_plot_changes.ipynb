{
 "cells": [
  {
   "cell_type": "code",
   "execution_count": 1,
   "metadata": {},
   "outputs": [],
   "source": [
    "import pandas as pd\n",
    "import matplotlib.pyplot as plt\n",
    "import matplotlib as mpl\n",
    "import numpy as np\n",
    "import seaborn as sns\n",
    "mpl.rcParams.update(\n",
    "    {\n",
    "    'text.usetex': False,\n",
    "    'font.family': 'stixgeneral',\n",
    "    'mathtext.fontset': 'stix',\n",
    "    \"font.family\":'serif',\n",
    "    \"font.size\": 12,\n",
    "    \"mathtext.fontset\":'stix',\n",
    "    \"font.serif\": ['Times New Roman'],\n",
    "    \"font.weight\":\"bold\",\n",
    "    }\n",
    "    )"
   ]
  },
  {
   "cell_type": "code",
   "execution_count": 4,
   "metadata": {},
   "outputs": [
    {
     "data": {
      "text/html": [
       "<div>\n",
       "<style scoped>\n",
       "    .dataframe tbody tr th:only-of-type {\n",
       "        vertical-align: middle;\n",
       "    }\n",
       "\n",
       "    .dataframe tbody tr th {\n",
       "        vertical-align: top;\n",
       "    }\n",
       "\n",
       "    .dataframe thead th {\n",
       "        text-align: right;\n",
       "    }\n",
       "</style>\n",
       "<table border=\"1\" class=\"dataframe\">\n",
       "  <thead>\n",
       "    <tr style=\"text-align: right;\">\n",
       "      <th></th>\n",
       "      <th>2013</th>\n",
       "      <th>2014</th>\n",
       "      <th>2015</th>\n",
       "      <th>2016</th>\n",
       "      <th>2017</th>\n",
       "      <th>2018</th>\n",
       "      <th>2019</th>\n",
       "      <th>2020</th>\n",
       "      <th>2021</th>\n",
       "    </tr>\n",
       "  </thead>\n",
       "  <tbody>\n",
       "    <tr>\n",
       "      <th>0</th>\n",
       "      <td>0.304</td>\n",
       "      <td>0.522</td>\n",
       "      <td>0.503</td>\n",
       "      <td>0.554</td>\n",
       "      <td>0.510</td>\n",
       "      <td>0.429</td>\n",
       "      <td>0.387</td>\n",
       "      <td>0.261</td>\n",
       "      <td>0.584</td>\n",
       "    </tr>\n",
       "    <tr>\n",
       "      <th>1</th>\n",
       "      <td>0.444</td>\n",
       "      <td>0.549</td>\n",
       "      <td>0.424</td>\n",
       "      <td>0.708</td>\n",
       "      <td>0.611</td>\n",
       "      <td>0.583</td>\n",
       "      <td>0.730</td>\n",
       "      <td>0.333</td>\n",
       "      <td>0.806</td>\n",
       "    </tr>\n",
       "    <tr>\n",
       "      <th>2</th>\n",
       "      <td>0.411</td>\n",
       "      <td>0.331</td>\n",
       "      <td>0.585</td>\n",
       "      <td>0.868</td>\n",
       "      <td>0.840</td>\n",
       "      <td>0.593</td>\n",
       "      <td>0.492</td>\n",
       "      <td>0.452</td>\n",
       "      <td>0.831</td>\n",
       "    </tr>\n",
       "    <tr>\n",
       "      <th>3</th>\n",
       "      <td>0.465</td>\n",
       "      <td>0.431</td>\n",
       "      <td>0.345</td>\n",
       "      <td>0.822</td>\n",
       "      <td>0.175</td>\n",
       "      <td>0.560</td>\n",
       "      <td>0.574</td>\n",
       "      <td>0.562</td>\n",
       "      <td>0.492</td>\n",
       "    </tr>\n",
       "    <tr>\n",
       "      <th>4</th>\n",
       "      <td>0.239</td>\n",
       "      <td>0.684</td>\n",
       "      <td>0.427</td>\n",
       "      <td>0.520</td>\n",
       "      <td>0.288</td>\n",
       "      <td>0.453</td>\n",
       "      <td>0.878</td>\n",
       "      <td>0.329</td>\n",
       "      <td>0.843</td>\n",
       "    </tr>\n",
       "  </tbody>\n",
       "</table>\n",
       "</div>"
      ],
      "text/plain": [
       "    2013   2014   2015   2016   2017   2018   2019   2020   2021\n",
       "0  0.304  0.522  0.503  0.554  0.510  0.429  0.387  0.261  0.584\n",
       "1  0.444  0.549  0.424  0.708  0.611  0.583  0.730  0.333  0.806\n",
       "2  0.411  0.331  0.585  0.868  0.840  0.593  0.492  0.452  0.831\n",
       "3  0.465  0.431  0.345  0.822  0.175  0.560  0.574  0.562  0.492\n",
       "4  0.239  0.684  0.427  0.520  0.288  0.453  0.878  0.329  0.843"
      ]
     },
     "execution_count": 4,
     "metadata": {},
     "output_type": "execute_result"
    }
   ],
   "source": [
    "# mask的春季秸秆覆盖度情况\n",
    "crc_chun = r'E:\\ESSD_crc_rf\\CRC_data\\CRC\\2013_2021C_mask.csv'\n",
    "crc_df_chun= pd.read_csv(crc_chun)\n",
    "crc_df_chun=crc_df_chun/1000\n",
    "crc_df_chun.head()"
   ]
  },
  {
   "cell_type": "code",
   "execution_count": 9,
   "metadata": {},
   "outputs": [
    {
     "data": {
      "text/html": [
       "<div>\n",
       "<style scoped>\n",
       "    .dataframe tbody tr th:only-of-type {\n",
       "        vertical-align: middle;\n",
       "    }\n",
       "\n",
       "    .dataframe tbody tr th {\n",
       "        vertical-align: top;\n",
       "    }\n",
       "\n",
       "    .dataframe thead th {\n",
       "        text-align: right;\n",
       "    }\n",
       "</style>\n",
       "<table border=\"1\" class=\"dataframe\">\n",
       "  <thead>\n",
       "    <tr style=\"text-align: right;\">\n",
       "      <th></th>\n",
       "      <th>2013</th>\n",
       "      <th>2014</th>\n",
       "      <th>2015</th>\n",
       "      <th>2016</th>\n",
       "      <th>2017</th>\n",
       "      <th>2018</th>\n",
       "      <th>2019</th>\n",
       "      <th>2020</th>\n",
       "      <th>2021</th>\n",
       "    </tr>\n",
       "  </thead>\n",
       "  <tbody>\n",
       "    <tr>\n",
       "      <th>0</th>\n",
       "      <td>0.368</td>\n",
       "      <td>0.737</td>\n",
       "      <td>0.173</td>\n",
       "      <td>0.397</td>\n",
       "      <td>0.812</td>\n",
       "      <td>0.326</td>\n",
       "      <td>0.534</td>\n",
       "      <td>0.850</td>\n",
       "      <td>0.618</td>\n",
       "    </tr>\n",
       "    <tr>\n",
       "      <th>1</th>\n",
       "      <td>0.315</td>\n",
       "      <td>0.733</td>\n",
       "      <td>0.760</td>\n",
       "      <td>0.604</td>\n",
       "      <td>0.732</td>\n",
       "      <td>0.236</td>\n",
       "      <td>0.746</td>\n",
       "      <td>0.828</td>\n",
       "      <td>0.273</td>\n",
       "    </tr>\n",
       "    <tr>\n",
       "      <th>2</th>\n",
       "      <td>0.208</td>\n",
       "      <td>0.776</td>\n",
       "      <td>0.842</td>\n",
       "      <td>0.634</td>\n",
       "      <td>0.739</td>\n",
       "      <td>0.586</td>\n",
       "      <td>0.822</td>\n",
       "      <td>0.832</td>\n",
       "      <td>0.832</td>\n",
       "    </tr>\n",
       "    <tr>\n",
       "      <th>3</th>\n",
       "      <td>0.408</td>\n",
       "      <td>0.268</td>\n",
       "      <td>0.822</td>\n",
       "      <td>0.372</td>\n",
       "      <td>0.589</td>\n",
       "      <td>0.168</td>\n",
       "      <td>0.792</td>\n",
       "      <td>0.170</td>\n",
       "      <td>0.559</td>\n",
       "    </tr>\n",
       "    <tr>\n",
       "      <th>4</th>\n",
       "      <td>0.351</td>\n",
       "      <td>0.582</td>\n",
       "      <td>0.769</td>\n",
       "      <td>0.179</td>\n",
       "      <td>0.619</td>\n",
       "      <td>0.111</td>\n",
       "      <td>0.582</td>\n",
       "      <td>0.712</td>\n",
       "      <td>0.604</td>\n",
       "    </tr>\n",
       "  </tbody>\n",
       "</table>\n",
       "</div>"
      ],
      "text/plain": [
       "    2013   2014   2015   2016   2017   2018   2019   2020   2021\n",
       "0  0.368  0.737  0.173  0.397  0.812  0.326  0.534  0.850  0.618\n",
       "1  0.315  0.733  0.760  0.604  0.732  0.236  0.746  0.828  0.273\n",
       "2  0.208  0.776  0.842  0.634  0.739  0.586  0.822  0.832  0.832\n",
       "3  0.408  0.268  0.822  0.372  0.589  0.168  0.792  0.170  0.559\n",
       "4  0.351  0.582  0.769  0.179  0.619  0.111  0.582  0.712  0.604"
      ]
     },
     "execution_count": 9,
     "metadata": {},
     "output_type": "execute_result"
    }
   ],
   "source": [
    "crc_qiu = r'E:\\ESSD_crc_rf\\CRC_data\\CRC\\2013_2021Q_mask.csv'\n",
    "crc_df_qiu = pd.read_csv(crc_qiu)\n",
    "crc_df_qiu=crc_df_qiu/1000\n",
    "crc_df_qiu.head()"
   ]
  },
  {
   "cell_type": "markdown",
   "metadata": {},
   "source": [
    "春季箱形图变化趋势"
   ]
  },
  {
   "cell_type": "code",
   "execution_count": 7,
   "metadata": {},
   "outputs": [
    {
     "data": {
      "text/plain": [
       "(array([-0.1,  0. ,  0.1,  0.2,  0.3,  0.4,  0.5,  0.6,  0.7,  0.8,  0.9]),\n",
       " [Text(0, -0.1, '−0.1'),\n",
       "  Text(0, 0.0, '0.0'),\n",
       "  Text(0, 0.1, '0.1'),\n",
       "  Text(0, 0.20000000000000004, '0.2'),\n",
       "  Text(0, 0.30000000000000004, '0.3'),\n",
       "  Text(0, 0.4, '0.4'),\n",
       "  Text(0, 0.5000000000000001, '0.5'),\n",
       "  Text(0, 0.6000000000000001, '0.6'),\n",
       "  Text(0, 0.7000000000000001, '0.7'),\n",
       "  Text(0, 0.8, '0.8'),\n",
       "  Text(0, 0.9, '0.9')])"
      ]
     },
     "execution_count": 7,
     "metadata": {},
     "output_type": "execute_result"
    },
    {
     "data": {
      "image/png": "[encoded data removed]",
      "text/plain": [
       "<Figure size 800x600 with 1 Axes>"
      ]
     },
     "metadata": {},
     "output_type": "display_data"
    }
   ],
   "source": [
    "fig,ax = plt.subplots(1,1,figsize=(8,6))\n",
    "sns.boxplot(data=crc_df_chun, saturation=1,showfliers=False,#异常值关闭显示\n",
    "            boxprops = {'color':'black',#箱子外框\n",
    "           'facecolor':'#999999'#箱子填充色\n",
    "           },#设置箱子属性\n",
    "            width=.5,linewidth=2,ax=ax)\n",
    "# 折线图\n",
    "ax.plot(crc_df_chun.describe().loc['mean'],color='red',marker = \"o\",markersize = 3.5,zorder = 10,linewidth=2)\n",
    "fontdict = {'weight': 'bold','size':16,'color':'k','family':'Times New Roman'}\n",
    "# 设置边框粗细\n",
    "ax.spines['bottom'].set_linewidth(1.5); # 设置底部坐标轴的粗细\n",
    "ax.spines['top'].set_linewidth(1.5);    # 设置底部坐标轴的粗细\n",
    "ax.spines['left'].set_linewidth(1.5);   # 设置底部坐标轴的粗细\n",
    "ax.spines['right'].set_linewidth(1.5);  # 设置底部坐标轴的粗细\n",
    "ax.set_xlabel('Year',fontdict =fontdict)\n",
    "ax.set_ylabel('Corn residue coverage',fontdict =fontdict)\n",
    "plt.xticks(fontproperties = 'Times New Roman', size = 13.5)\n",
    "plt.yticks(fontproperties = 'Times New Roman', size = 13.5)"
   ]
  },
  {
   "attachments": {},
   "cell_type": "markdown",
   "metadata": {},
   "source": [
    "秋季箱线图变化"
   ]
  },
  {
   "cell_type": "code",
   "execution_count": 10,
   "metadata": {},
   "outputs": [
    {
     "data": {
      "text/plain": [
       "(array([-0.2,  0. ,  0.2,  0.4,  0.6,  0.8,  1. ]),\n",
       " [Text(0, -0.2, '−0.2'),\n",
       "  Text(0, 0.0, '0.0'),\n",
       "  Text(0, 0.2, '0.2'),\n",
       "  Text(0, 0.4000000000000001, '0.4'),\n",
       "  Text(0, 0.6000000000000001, '0.6'),\n",
       "  Text(0, 0.8, '0.8'),\n",
       "  Text(0, 1.0000000000000002, '1.0')])"
      ]
     },
     "execution_count": 10,
     "metadata": {},
     "output_type": "execute_result"
    },
    {
     "data": {
      "image/png": "[encoded data removed]",
      "text/plain": [
       "<Figure size 800x600 with 1 Axes>"
      ]
     },
     "metadata": {},
     "output_type": "display_data"
    }
   ],
   "source": [
    "fig,ax = plt.subplots(1,1,figsize=(8,6))\n",
    "sns.boxplot(data=crc_df_qiu, saturation=1,showfliers=False,#异常值关闭显示\n",
    "            boxprops = {'color':'black',#箱子外框\n",
    "           'facecolor':'#999999'#箱子填充色\n",
    "           },#设置箱子属性\n",
    "            width=.5,linewidth=2,ax=ax)\n",
    "# 折线图\n",
    "ax.plot(crc_df_qiu.describe().loc['mean'],color='red',marker = \"o\",markersize = 3.5,zorder = 10,linewidth=2)\n",
    "fontdict = {'weight': 'bold','size':16,'color':'k','family':'Times New Roman'}\n",
    "# 设置边框粗细\n",
    "ax.spines['bottom'].set_linewidth(1.5); # 设置底部坐标轴的粗细\n",
    "ax.spines['top'].set_linewidth(1.5);    # 设置底部坐标轴的粗细\n",
    "ax.spines['left'].set_linewidth(1.5);   # 设置底部坐标轴的粗细\n",
    "ax.spines['right'].set_linewidth(1.5);  # 设置底部坐标轴的粗细\n",
    "ax.set_xlabel('Year',fontdict =fontdict)\n",
    "ax.set_ylabel('Corn residue coverage',fontdict =fontdict)\n",
    "plt.xticks(fontproperties = 'Times New Roman', size = 13.5)\n",
    "plt.yticks(fontproperties = 'Times New Roman', size = 13.5)\n",
    "# plt.savefig(r'E:\\ESSD_crc_rf\\图片\\秋季箱线图变化mask.jpg',dpi = 400,bbox_inches='tight')"
   ]
  }
 ],
 "metadata": {
  "kernelspec": {
   "display_name": "geo_analysis",
   "language": "python",
   "name": "python3"
  },
  "language_info": {
   "codemirror_mode": {
    "name": "ipython",
    "version": 3
   },
   "file_extension": ".py",
   "mimetype": "text/x-python",
   "name": "python",
   "nbconvert_exporter": "python",
   "pygments_lexer": "ipython3",
   "version": "3.9.12"
  },
  "orig_nbformat": 4
 },
 "nbformat": 4,
 "nbformat_minor": 2
}
